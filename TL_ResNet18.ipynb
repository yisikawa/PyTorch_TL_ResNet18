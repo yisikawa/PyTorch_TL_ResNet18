{
  "nbformat": 4,
  "nbformat_minor": 0,
  "metadata": {
    "colab": {
      "name": "TL_ResNet18.ipynb",
      "provenance": [],
      "collapsed_sections": [
        "a5D4d48vqmui",
        "YZ0QRhd-rbvi",
        "VCxysqL8sF5S",
        "ukIezO9SsaBi",
        "3L7wOwDmsqYa",
        "9DRnilfdtN_b",
        "m4nSbf6ltkei",
        "6VGiiH1Juex8",
        "oEXbpOc5xWc9",
        "yYb9UjcjxmhP"
      ]
    },
    "kernelspec": {
      "name": "python3",
      "display_name": "Python 3"
    },
    "language_info": {
      "name": "python"
    },
    "accelerator": "GPU"
  },
  "cells": [
    {
      "cell_type": "markdown",
      "metadata": {
        "id": "eIhMQf2OMqCO"
      },
      "source": [
        "# ResNet18の転移学習\n",
        "このリンクを押すと[google colab](https://colab.research.google.com/github/yisikawa/PyTorch_TL_ResNet18/blob/main/TL_ResNet18.ipynb)へ移動\n",
        "### GitHub上のflower_dataをgoogle colab上にコピーして、学習する\n",
        "##### 注意事項：メニュー「ランタイム」下「ランタイムのタイプを変更」を選び、「ハードウェアアクセラレータ」を「**GPU**」に設定して保存\n",
        "### flower_dataは以下のフォルダ構成になっている\n",
        "- flower_data\n",
        "    - train　学習用\n",
        "        - daisy\n",
        "        -dandelion\n",
        "        -roses\n",
        "        -sunflowers\n",
        "        -tulips\n",
        "    -val　　評価用\n",
        "        - daisy\n",
        "        -dandelion\n",
        "        -roses\n",
        "        -sunflowers\n",
        "        -tulips"
      ]
    },
    {
      "cell_type": "markdown",
      "metadata": {
        "id": "a5D4d48vqmui"
      },
      "source": [
        "# flower_dataをGitHubからクローン\n",
        "#### [GitHub](https://github.com/yisikawa/PyTorch_TL_ResNet18.git)から学習用データをクローンし、確認する"
      ]
    },
    {
      "cell_type": "code",
      "metadata": {
        "id": "iKZOwZ0IJ5qf"
      },
      "source": [
        "!git clone https://github.com/yisikawa/PyTorch_TL_ResNet18.git\n",
        "!ls -l PyTorch_TL_ResNet18"
      ],
      "execution_count": null,
      "outputs": []
    },
    {
      "cell_type": "markdown",
      "metadata": {
        "id": "YZ0QRhd-rbvi"
      },
      "source": [
        "# 必要なモジュールをインポートする"
      ]
    },
    {
      "cell_type": "code",
      "metadata": {
        "id": "iXmjzRc1ndoD"
      },
      "source": [
        "import torch\n",
        "import torch.nn as nn\n",
        "import torch.optim as optim\n",
        "import numpy as np\n",
        "import matplotlib.pyplot as plt\n",
        "from torchvision import datasets,models,transforms\n",
        "from torch.utils.data import DataLoader"
      ],
      "execution_count": null,
      "outputs": []
    },
    {
      "cell_type": "markdown",
      "metadata": {
        "id": "VCxysqL8sF5S"
      },
      "source": [
        "#**GPU**の使用を設定する"
      ]
    },
    {
      "cell_type": "code",
      "metadata": {
        "id": "--QqmOmUox7y"
      },
      "source": [
        "device = \"cuda\" if torch.cuda.is_available else \"cpu\""
      ],
      "execution_count": null,
      "outputs": []
    },
    {
      "cell_type": "markdown",
      "metadata": {
        "id": "ukIezO9SsaBi"
      },
      "source": [
        "#画像データの前処理\n",
        "#### サイズ等を変更するなどの前準備を行う"
      ]
    },
    {
      "cell_type": "code",
      "metadata": {
        "id": "5AdP-RaGpqSA"
      },
      "source": [
        "transform = transforms.Compose([\n",
        "    transforms.Resize((224,224)),\n",
        "    transforms.ToTensor(),\n",
        "    transforms.Normalize((0.5,),(0.5,))\n",
        "])"
      ],
      "execution_count": null,
      "outputs": []
    },
    {
      "cell_type": "markdown",
      "metadata": {
        "id": "3L7wOwDmsqYa"
      },
      "source": [
        "#flower_dataを取り込む\n",
        "#### 学習用と評価用のデータをミニバッチサイズ32でシャフルした形で取り込む設定をする"
      ]
    },
    {
      "cell_type": "code",
      "metadata": {
        "id": "o6RpFbexro7p"
      },
      "source": [
        "train_dataset = datasets.ImageFolder(\"./PyTorch_TL_ResNet18/flower_data/train\",transform=transform)\n",
        "test_dataset = datasets.ImageFolder(\"./PyTorch_TL_ResNet18/flower_data/val\",transform=transform)\n",
        "train_loader = DataLoader(train_dataset,batch_size=32,shuffle=True)\n",
        "test_loader = DataLoader(train_dataset,batch_size=32,shuffle=True)"
      ],
      "execution_count": null,
      "outputs": []
    },
    {
      "cell_type": "markdown",
      "metadata": {
        "id": "9DRnilfdtN_b"
      },
      "source": [
        "#ResNet18のモデルをロードする\n",
        "#### 学習済みのモデルをロードする"
      ]
    },
    {
      "cell_type": "code",
      "metadata": {
        "id": "K0QhGDIzzv1G"
      },
      "source": [
        "model = models.resnet18(pretrained=True)"
      ],
      "execution_count": null,
      "outputs": []
    },
    {
      "cell_type": "markdown",
      "metadata": {
        "id": "m4nSbf6ltkei"
      },
      "source": [
        "# モデルを転移学習用に準備する\n",
        "#### 最終層以外は自動微分を無効(False)に設定し、出力を1000種類から5種類に変更する"
      ]
    },
    {
      "cell_type": "code",
      "metadata": {
        "id": "Ge4hbV4i0Zml"
      },
      "source": [
        "for param in model.parameters():\n",
        "    param.requires_grad = False\n",
        "model.fc = nn.Linear(512,5)\n",
        "model.to(device)"
      ],
      "execution_count": null,
      "outputs": []
    },
    {
      "cell_type": "markdown",
      "metadata": {
        "id": "6VGiiH1Juex8"
      },
      "source": [
        "# GPUを使用して学習をおこなう\n",
        "- ソフトマックス交差エントロピー損失関数、最適化関数(Adam)を設定\n",
        "- エポック数(15)分のループ\n",
        "    - ミニバッチ数(32)分のループ（データはシャッフル）\n",
        "        - イメージと正解ラベルを取り出す\n",
        "        - 勾配を初期化\n",
        "        - 順伝播をおこなう\n",
        "        - 損失率,正解率を求める\n",
        "        - 誤差逆伝播を行う\n",
        "        - 重みを更新する\n",
        "    - エポックごとの損失率、正解率をプリントする"
      ]
    },
    {
      "cell_type": "code",
      "metadata": {
        "id": "9W4ysKBn1nUX"
      },
      "source": [
        "criterion = nn.CrossEntropyLoss()\n",
        "optimizer = optim.Adam(model.fc.parameters(),lr=0.001)\n",
        "num_epochs = 15\n",
        "losses = []\n",
        "accs = []\n",
        "for epochs in range(num_epochs):\n",
        "    running_loss = 0.0\n",
        "    running_acc = 0.0\n",
        "    for imgs,labels in train_loader:\n",
        "        imgs = imgs.to(device)\n",
        "        labels = labels.to(device)\n",
        "        optimizer.zero_grad()\n",
        "        output = model(imgs)\n",
        "        loss = criterion(output,labels)\n",
        "        running_loss += loss.item()\n",
        "        pred = torch.argmax(output,dim=1)\n",
        "        running_acc  += torch.mean(pred.eq(labels).float())\n",
        "        loss.backward()\n",
        "        optimizer.step()\n",
        "    running_loss /= len(train_loader)\n",
        "    running_acc /= len(train_loader)\n",
        "    losses.append(running_loss)\n",
        "    accs.append(running_acc)\n",
        "    print(\"epoch: {}, loss: {}, acc: {}\".format(epochs,running_loss,running_acc))\n"
      ],
      "execution_count": null,
      "outputs": []
    },
    {
      "cell_type": "markdown",
      "metadata": {
        "id": "oEXbpOc5xWc9"
      },
      "source": [
        "# 損失率の推移を表示"
      ]
    },
    {
      "cell_type": "code",
      "metadata": {
        "id": "nMYpZGzT4FYW"
      },
      "source": [
        "plt.plot(losses)"
      ],
      "execution_count": null,
      "outputs": []
    },
    {
      "cell_type": "markdown",
      "metadata": {
        "id": "yYb9UjcjxmhP"
      },
      "source": [
        "# 正解率の推移を表示"
      ]
    },
    {
      "cell_type": "code",
      "metadata": {
        "id": "hPBBU4Tk4_aA"
      },
      "source": [
        "plt.plot(accs)"
      ],
      "execution_count": null,
      "outputs": []
    },
    {
      "cell_type": "markdown",
      "metadata": {
        "id": "LHslVFITxsvs"
      },
      "source": [
        "#評価用データをランダムに抽出し、予測、正解、画像を表示"
      ]
    },
    {
      "cell_type": "code",
      "metadata": {
        "id": "tZ5ohzlZ_1x4"
      },
      "source": [
        "test_iter = iter(test_loader)\n",
        "testimgs,testlabels = test_iter.next()\n",
        "testimg = testimgs[0]\n",
        "testimg_permute = testimg.permute(1,2,0)\n",
        "testimg_permute = 0.5*testimg_permute + 0.5\n",
        "testimg_permute = np.clip(testimg_permute,0,1)\n",
        "plt.imshow(testimg_permute)\n",
        "flower_name = [\"daisy\",\"dandelion\",\"rose\",\"sunflower\",\"tulip\"]\n",
        "testimgs = testimgs.to(device)\n",
        "testlabels = testlabels.to(device)\n",
        "output = model(testimgs)\n",
        "pred = torch.argmax(output,dim=1)\n",
        "print(\"    予測: {} >>> 正解: {}\".format(flower_name[pred[0].item()],flower_name[testlabels[0].item()]))"
      ],
      "execution_count": null,
      "outputs": []
    },
    {
      "cell_type": "markdown",
      "metadata": {
        "id": "2r5ZYBtYYInv"
      },
      "source": [
        ""
      ]
    }
  ]
}